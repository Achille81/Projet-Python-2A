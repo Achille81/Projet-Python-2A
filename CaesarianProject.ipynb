{
  "nbformat": 4,
  "nbformat_minor": 0,
  "metadata": {
    "colab": {
      "name": "données1.ipynb",
      "provenance": []
    },
    "kernelspec": {
      "name": "python3",
      "display_name": "Python 3"
    }
  },
  "cells": [
    {
      "cell_type": "code",
      "metadata": {
        "id": "cZ9Hw7I7rvbI",
        "colab": {
          "base_uri": "https://localhost:8080/",
          "height": 1000
        },
        "outputId": "55e08ca5-6ca2-4282-8679-39cef99e50cc"
      },
      "source": [
        "#introduction:\r\n",
        "#La césarienne est une intervention chirurgicale qui permet de faire accoucher une femme en pratiquant une incision dans l’abdomen et l’utérus. C’est une technique employée très fréquemment : selon les pays, en moyenne, de 15 à 30% des accouchements se font par césarienne. En France, par exemple, c'est environ 1 femme sur 5 qui donne naissance à son enfant par césarienne. Ces chiffres sont très importants et peuvent être expliqués : c'est pourquoi, dans ce projet, nous cherchons à prédire si une femme aura besoin ou non de faire une césarienne selon certaines caractéristiques. \r\n",
        "\r\n",
        "#De manière générale, les médecins optent pour la césarienne lorsque les conditions, chez la mère ou chez l’enfant, ne sont pas favorables à un accouchement par les voies naturelles. La césarienne peut être programmée ou pratiquée en urgence. Les indications ne sont pas les mêmes selon ces deux situations.\r\n",
        "\r\n",
        "#Lorsque la césarienne est programmée à l’avance (elle est réalisée avant le déclenchement naturel du travail). Les raisons sont diverses :\r\n",
        "#-présentation anormale de l'enfant\r\n",
        "#-localisation anormale du placenta\r\n",
        "#-grossesse multiple\r\n",
        "#-enfant de poids très élevé\r\n",
        "#-problèmes pendant la grossesse\r\n",
        "#-antécédent de césarienne pour une précédente grossesse\r\n",
        "#-infection de la mère par certains virus comme le VIH (la césarienne permet de ne pas contaminer le bébé) \r\n",
        "\r\n",
        "#La césarienne peut aussi être pratiquée en urgence, au cours de la grossesse ou lorsque l’accouchement ne se déroule pas comme prévu, et que le travail par voie basse devient impossible ou trop risqué pour la mère et/ou l’enfant :\r\n",
        "#-anomalies du rythme cardiaque de l’enfant \r\n",
        "#-arrêt de la dilatation du col malgré les médicaments\r\n",
        "#-hypoxie de la mère ou de l’enfant\r\n",
        "#-échec d’une extraction par forceps\r\n",
        "#-hémorragies maternelles\r\n",
        "#-risque de lésions graves\r\n",
        "#-crise de prééclampsie\r\n",
        "\r\n",
        "#De plus, il faut savoir qu’après une première césarienne, il est souvent possible d’accoucher par voie basse lors des grossesses ultérieures.\r\n",
        "\r\n",
        "#Dans notre étude, nous allons chercher à prédire la césarienne notamment grâce à la programmation avancée, c'est à dire les caractéristiques fixes de l'accouchement.\r\n",
        "\r\n",
        "\r\n",
        "import pandas as pd\r\n",
        "\r\n",
        "import matplotlib.pyplot as plt\r\n",
        "import numpy as np\r\n",
        "from scipy import stats\r\n",
        "import seaborn as sns\r\n",
        "import statsmodels.api as sm\r\n",
        "from sklearn import linear_model\r\n",
        "from sklearn.preprocessing import LabelEncoder\r\n",
        "import pickle\r\n",
        "import codecs\r\n",
        "\r\n",
        "\r\n",
        "\r\n",
        "\r\n",
        "# Importation de la base de données\r\n",
        "\r\n",
        "data = pd.read_csv('/content/Caesarian Section Classification Dataset(CSV).csv')\r\n",
        "\r\n",
        "# Nettoayge de la base data\r\n",
        "\r\n",
        "#transformer la base en 2 bases categorique et numerique\r\n",
        "\r\n",
        "cat_data=[]\r\n",
        "\r\n",
        "num_data=[]\r\n",
        "\r\n",
        "for i,c in enumerate(data.dtypes):\r\n",
        "    \r\n",
        "  if c==object:\r\n",
        "      \r\n",
        "    cat_data.append(data.iloc[:,i])\r\n",
        "    \r\n",
        "  else:\r\n",
        "      \r\n",
        "    num_data.append(data.iloc[:,i])\r\n",
        "    \r\n",
        "cat_data=pd.DataFrame(cat_data).transpose()\r\n",
        "\r\n",
        "num_data=pd.DataFrame(num_data).transpose()\r\n",
        "\r\n",
        "#modifier les valeurs de la colonne caesarian de type catégorique au type numérique\r\n",
        "\r\n",
        "Caesarian1_value={'yes':1,'Yes':1,'No':0}\r\n",
        "\r\n",
        "Caesarian1=cat_data['Caesarian']\r\n",
        "\r\n",
        "cat_data.drop('Caesarian',axis=1, inplace=True)\r\n",
        "\r\n",
        "Caesarian1=Caesarian1.map(Caesarian1_value)\r\n",
        "\r\n",
        "#modifier les valeurs de la colonne pressureblood\r\n",
        "\r\n",
        "PressBlood_value={'Low':0,'low':0,'High':2,'Normal':1}\r\n",
        "\r\n",
        "PressBlood=cat_data['Blood of Pressure']\r\n",
        "\r\n",
        "cat_data.drop('Blood of Pressure',axis=1, inplace=True)\r\n",
        "\r\n",
        "PressBlood=PressBlood.map(PressBlood_value)\r\n",
        "\r\n",
        "\r\n",
        "# Transformation des labels catégoriels en labels numériques\r\n",
        "\r\n",
        "\r\n",
        "le=LabelEncoder()\r\n",
        "\r\n",
        "for i in cat_data:\r\n",
        "    \r\n",
        "  cat_data[i] = le.fit_transform(cat_data[i])\r\n",
        "\r\n",
        "data1=pd.concat([cat_data,num_data,PressBlood,Caesarian1],axis=1)\r\n",
        "\r\n",
        "\r\n",
        "# Affichage de la table descriptive\r\n",
        "\r\n",
        "    \r\n",
        "Table_descriptive = data1.describe()\r\n",
        "\r\n",
        "\r\n",
        "print(Table_descriptive)\r\n",
        "\r\n",
        "boxprops = dict(linestyle='-', linewidth=3, color='darkgoldenrod')\r\n",
        "\r\n",
        "plt.figure(0)\r\n",
        "\r\n",
        "boxplot = data1.boxplot(column='Caesarian', boxprops=boxprops)\r\n",
        "\r\n",
        "# A travers les boites de moustache des différentes variables on peut voir que les variables sont distribuées à peu près dans des intervalles de meme longueur, un point important aussi c'est que les variables Delivey No, Heart Problem et Caesarian sont asymétriques donc leurs données peuvent ne pas être normalement distribuées et concernant les valeurs abberantes notre graphe n'affiche pas des données de cette nature pour toutes les variables de traitement.\r\n",
        "\r\n",
        "#effets des variables sur la variable Caesarian\r\n",
        "\r\n",
        "#effet de la variable Age \r\n",
        "\r\n",
        "grid=sns.FacetGrid(data1,col='Caesarian',size=3.2,aspect=1.6)\r\n",
        "\r\n",
        "grid.map(sns.countplot,'Age')\r\n",
        "\r\n",
        "#l'operation est encouragée pour les femmes autour des trentaines et découragé pour celles autour des vingtaines\r\n",
        "#l'age a un effet sur la variable caesarian\r\n",
        "\r\n",
        "#effet de la varible Delivey No\r\n",
        "\r\n",
        "grid=sns.FacetGrid(data1,col='Caesarian',size=3.2,aspect=1.6)\r\n",
        "\r\n",
        "grid.map(sns.countplot,'Delivey No')\r\n",
        "\r\n",
        "#on déduit que le nombre  d'opérations cesariennes est plus élevé chez les femmes ayant moins d'enfants et surtout lorsqu'il s'agit de leur premier enfant \r\n",
        "#mais aussi non necessité d'operation pour les femmes ayant moins d'enfants \r\n",
        "#conclusion: la variable nbrenfants n'a pas un effet majeur sur l'accord d'operation cesarienne\r\n",
        "\r\n",
        "#effet de la variable Heart Problem\r\n",
        "\r\n",
        "grid=sns.FacetGrid(data1,col='Caesarian',size=3.2,aspect=1.6)\r\n",
        "\r\n",
        "grid.map(sns.countplot,'Heart Problem')\r\n",
        "\r\n",
        "#pas d'effet majeur sur la decision d'operation cesarienne selon la variable HeartProblem\r\n",
        "#mais les femmes n'ayant pas de probleme cardiovasculaire effectuent moins d'operations\r\n",
        "\r\n",
        "#effet de la variable Delivery No\t\r\n",
        "\r\n",
        "grid=sns.FacetGrid(data1,col='Caesarian',size=3.2,aspect=1.6)\r\n",
        "\r\n",
        "grid.map(sns.countplot,'Delivery No')\r\n",
        "\r\n",
        "#plus les femmes auront une grossesse retardée plus elles effectuent une operation\r\n",
        "#conclusion: la variable Deliveru No affecte la variable Caesarian\r\n",
        "\r\n",
        "# Prédiction par regression\r\n",
        "\r\n",
        "\r\n",
        "\r\n",
        "# Prédiction par KNN\r\n",
        "\r\n",
        "from sklearn.neighbors import KNeighborsClassifier\r\n",
        "\r\n",
        "\r\n",
        "y = data1[\"Caesarian\"]\r\n",
        "\r\n",
        "X = data1.copy()\r\n",
        "\r\n",
        "X.drop([\"Caesarian\"], axis=1, inplace=True)\r\n",
        "\r\n",
        "train_size = 0.8  # train -> 80 %, Test -> 20 %\r\n",
        "\r\n",
        "\r\n",
        "# Division des données en base d'apprentissage et en base de test\r\n",
        "\r\n",
        "N_train = int(train_size*len(y))\r\n",
        "N_test = len(y) - N_train\r\n",
        "\r\n",
        "\r\n",
        "X = X.to_numpy()\r\n",
        "y = y.to_numpy()\r\n",
        "\r\n",
        "X_train = X[0:N_train,:]\r\n",
        "X_test = X[N_train:,:]\r\n",
        "\r\n",
        "\r\n",
        "y_train = y[0:N_train]\r\n",
        "y_test = y[N_train:]\r\n",
        "\r\n",
        "from sklearn.neighbors import NearestNeighbors\r\n",
        "NN = NearestNeighbors(n_neighbors=2)\r\n",
        "\r\n",
        "\r\n",
        "NN.fit(X)\r\n",
        "\r\n",
        "A = NN.kneighbors_graph(X)\r\n",
        "\r\n",
        "# Instance d'un KNN\r\n",
        "neigh = KNeighborsClassifier(n_neighbors=3)\r\n",
        "\r\n",
        "# COnstruction du modèle KNN sur la base d'apprentissage\r\n",
        "neigh.fit(X_train, y_train)\r\n",
        "\r\n",
        "predictions = neigh.predict(X_test)\r\n",
        "\r\n",
        "   \r\n",
        "\r\n",
        "from sklearn.metrics import roc_curve\r\n",
        "\r\n",
        "\r\n",
        "\r\n",
        "\r\n",
        "\r\n",
        "from sklearn.datasets import make_classification\r\n",
        "from sklearn.linear_model import LogisticRegression\r\n",
        "from sklearn.model_selection import train_test_split\r\n",
        "from sklearn.metrics import roc_curve\r\n",
        "from matplotlib import pyplot\r\n",
        "\r\n",
        "\r\n",
        "'''\r\n",
        "------------------------------------------------------------------------------\r\n",
        "                    Regression logistique\r\n",
        "------------------------------------------------------------------------------\r\n",
        "'''\r\n",
        "\r\n",
        "\r\n",
        "\r\n",
        "# split into train/test sets\r\n",
        "trainX, testX, trainy, testy = train_test_split(X, y, test_size=0.2, random_state=2)\r\n",
        "\r\n",
        "\r\n",
        "# fit a model\r\n",
        "\r\n",
        "\r\n",
        "model = LogisticRegression(solver='lbfgs')\r\n",
        "model.fit(trainX, trainy)\r\n",
        "\r\n",
        "\r\n",
        "# predict probabilities\r\n",
        "yhat = model.predict_proba(testX)\r\n",
        "\r\n",
        "# retrieve just the probabilities for the positive class\r\n",
        "pos_probs = yhat[:, 1]\r\n",
        "\r\n",
        "\r\n",
        "plt.figure(1)\r\n",
        "\r\n",
        "# calculate roc curve for model\r\n",
        "fpr, tpr, _ = roc_curve(testy, pos_probs)\r\n",
        "# plot model roc curve\r\n",
        "pyplot.plot(fpr, tpr, marker='.', label='ROC Regression logistique')\r\n",
        "# axis labels\r\n",
        "pyplot.xlabel('Taux False Positive')\r\n",
        "pyplot.ylabel('Taux True Positive')\r\n",
        "# show the legend\r\n",
        "pyplot.legend()\r\n",
        "# show the plot\r\n",
        "pyplot.show()\r\n",
        "\r\n",
        "\r\n",
        "'''\r\n",
        "------------------------------------------------------------------------------\r\n",
        "                    KNN classifieur\r\n",
        "------------------------------------------------------------------------------\r\n",
        "'''\r\n",
        "\r\n",
        "\r\n",
        "model = KNeighborsClassifier(n_neighbors=3)\r\n",
        "model.fit(trainX, trainy)\r\n",
        "\r\n",
        "\r\n",
        "# predict probabilities\r\n",
        "yhat = model.predict_proba(testX)\r\n",
        "\r\n",
        "# retrieve just the probabilities for the positive class\r\n",
        "pos_probs = yhat[:, 1]\r\n",
        "\r\n",
        "\r\n",
        "plt.figure(1)\r\n",
        "\r\n",
        "# calculate roc curve for model\r\n",
        "fpr, tpr, _ = roc_curve(testy, pos_probs)\r\n",
        "# plot model roc curve\r\n",
        "pyplot.plot(fpr, tpr, marker='.', label='ROC KNN classifieur')\r\n",
        "# axis labels\r\n",
        "pyplot.xlabel('Taux False Positive')\r\n",
        "pyplot.ylabel('Taux True Positive')\r\n",
        "# show the legend\r\n",
        "pyplot.legend()\r\n",
        "# show the plot\r\n",
        "pyplot.show()\r\n",
        "\r\n",
        "\r\n",
        "\r\n",
        "'''\r\n",
        "------------------------------------------------------------------------------\r\n",
        "                    Arbre de décision\r\n",
        "------------------------------------------------------------------------------\r\n",
        "'''\r\n",
        "\r\n",
        "\r\n",
        "\r\n",
        "from sklearn.tree import DecisionTreeClassifier\r\n",
        " \r\n",
        " \r\n",
        "model = DecisionTreeClassifier(random_state=0)\r\n",
        "\r\n",
        "\r\n",
        "\r\n",
        "model.fit(trainX, trainy)\r\n",
        "\r\n",
        "\r\n",
        "# predict probabilities\r\n",
        "yhat = model.predict_proba(testX)\r\n",
        "\r\n",
        "# retrieve just the probabilities for the positive class\r\n",
        "pos_probs = yhat[:, 1]\r\n",
        "\r\n",
        "\r\n",
        "plt.figure(1)\r\n",
        "\r\n",
        "# calculate roc curve for model\r\n",
        "fpr, tpr, _ = roc_curve(testy, pos_probs)\r\n",
        "# plot model roc curve\r\n",
        "pyplot.plot(fpr, tpr, marker='.', label='ROC Arbre de décision')\r\n",
        "# axis labels\r\n",
        "pyplot.xlabel('Taux False Positive')\r\n",
        "pyplot.ylabel('Taux True Positive')\r\n",
        "# show the legend\r\n",
        "pyplot.legend()\r\n",
        "# show the plot\r\n",
        "pyplot.show()\r\n",
        "\r\n",
        "\r\n",
        "\r\n",
        "\r\n",
        "'''\r\n",
        "------------------------------------------------------------------------------\r\n",
        "                    Foret aléatoire\r\n",
        "------------------------------------------------------------------------------\r\n",
        "'''\r\n",
        "\r\n",
        "from sklearn.ensemble import RandomForestClassifier\r\n",
        "\r\n",
        "\r\n",
        "model = RandomForestClassifier(max_depth=2, random_state=0)\r\n",
        "\r\n",
        "\r\n",
        "model.fit(trainX, trainy)\r\n",
        "\r\n",
        "\r\n",
        "# predict probabilities\r\n",
        "yhat = model.predict_proba(testX)\r\n",
        "\r\n",
        "# retrieve just the probabilities for the positive class\r\n",
        "pos_probs = yhat[:, 1]\r\n",
        "\r\n",
        "\r\n",
        "plt.figure(1)\r\n",
        "\r\n",
        "# calculate roc curve for model\r\n",
        "fpr, tpr, _ = roc_curve(testy, pos_probs)\r\n",
        "# plot model roc curve\r\n",
        "pyplot.plot(fpr, tpr, marker='.', label='ROC Forêt aléatoire')\r\n",
        "# axis labels\r\n",
        "pyplot.xlabel('Taux False Positive')\r\n",
        "pyplot.ylabel('Taux True Positive')\r\n",
        "# show the legend\r\n",
        "pyplot.legend()\r\n",
        "# show the plot\r\n",
        "pyplot.show()\r\n",
        "\r\n",
        "\r\n",
        "'''\r\n",
        "------------------------------------------------------------------------------\r\n",
        "                  Perception multi-couche\r\n",
        "------------------------------------------------------------------------------\r\n",
        "'''\r\n",
        "\r\n",
        "\r\n",
        "\r\n",
        "\r\n",
        "from sklearn.neural_network import MLPClassifier\r\n",
        "\r\n",
        "\r\n",
        "model = MLPClassifier(random_state=1, max_iter=300)\r\n",
        "\r\n",
        "\r\n",
        "model.fit(trainX, trainy)\r\n",
        "\r\n",
        "\r\n",
        "# predict probabilities\r\n",
        "yhat = model.predict_proba(testX)\r\n",
        "\r\n",
        "# retrieve just the probabilities for the positive class\r\n",
        "pos_probs = yhat[:, 1]\r\n",
        "\r\n",
        "\r\n",
        "plt.figure(1)\r\n",
        "\r\n",
        "# calculate roc curve for model\r\n",
        "fpr, tpr, _ = roc_curve(testy, pos_probs)\r\n",
        "# plot model roc curve\r\n",
        "pyplot.plot(fpr, tpr, marker='.', label='ROC Perception multi-couche')\r\n",
        "# axis labels\r\n",
        "pyplot.xlabel('Taux False Positive')\r\n",
        "pyplot.ylabel('Taux True Positive')\r\n",
        "# show the legend\r\n",
        "pyplot.legend()\r\n",
        "# show the plot\r\n",
        "pyplot.show()"
      ],
      "execution_count": null,
      "outputs": [
        {
          "output_type": "stream",
          "text": [
            "/usr/local/lib/python3.6/dist-packages/statsmodels/tools/_testing.py:19: FutureWarning: pandas.util.testing is deprecated. Use the functions in the public API at pandas.testing instead.\n",
            "  import pandas.util.testing as tm\n"
          ],
          "name": "stderr"
        },
        {
          "output_type": "stream",
          "text": [
            "       Delivery No  Heart Problem  ...  Blood of Pressure  Caesarian\n",
            "count    80.000000      80.000000  ...          80.000000  80.000000\n",
            "mean      1.362500       0.375000  ...           1.000000   0.575000\n",
            "std       0.815107       0.487177  ...           0.711568   0.497462\n",
            "min       0.000000       0.000000  ...           0.000000   0.000000\n",
            "25%       1.000000       0.000000  ...           0.750000   0.000000\n",
            "50%       2.000000       0.000000  ...           1.000000   1.000000\n",
            "75%       2.000000       1.000000  ...           1.250000   1.000000\n",
            "max       2.000000       1.000000  ...           2.000000   1.000000\n",
            "\n",
            "[8 rows x 6 columns]\n"
          ],
          "name": "stdout"
        },
        {
          "output_type": "stream",
          "text": [
            "/usr/local/lib/python3.6/dist-packages/seaborn/axisgrid.py:316: UserWarning: The `size` parameter has been renamed to `height`; please update your code.\n",
            "  warnings.warn(msg, UserWarning)\n",
            "/usr/local/lib/python3.6/dist-packages/seaborn/axisgrid.py:645: UserWarning: Using the countplot function without specifying `order` is likely to produce an incorrect plot.\n",
            "  warnings.warn(warning)\n",
            "/usr/local/lib/python3.6/dist-packages/seaborn/axisgrid.py:316: UserWarning: The `size` parameter has been renamed to `height`; please update your code.\n",
            "  warnings.warn(msg, UserWarning)\n",
            "/usr/local/lib/python3.6/dist-packages/seaborn/axisgrid.py:645: UserWarning: Using the countplot function without specifying `order` is likely to produce an incorrect plot.\n",
            "  warnings.warn(warning)\n",
            "/usr/local/lib/python3.6/dist-packages/seaborn/axisgrid.py:316: UserWarning: The `size` parameter has been renamed to `height`; please update your code.\n",
            "  warnings.warn(msg, UserWarning)\n",
            "/usr/local/lib/python3.6/dist-packages/seaborn/axisgrid.py:645: UserWarning: Using the countplot function without specifying `order` is likely to produce an incorrect plot.\n",
            "  warnings.warn(warning)\n",
            "/usr/local/lib/python3.6/dist-packages/seaborn/axisgrid.py:316: UserWarning: The `size` parameter has been renamed to `height`; please update your code.\n",
            "  warnings.warn(msg, UserWarning)\n",
            "/usr/local/lib/python3.6/dist-packages/seaborn/axisgrid.py:645: UserWarning: Using the countplot function without specifying `order` is likely to produce an incorrect plot.\n",
            "  warnings.warn(warning)\n"
          ],
          "name": "stderr"
        },
        {
          "output_type": "display_data",
          "data": {
            "image/png": "[encoded data removed]",
            "text/plain": [
              "<Figure size 432x288 with 1 Axes>"
            ]
          },
          "metadata": {
            "tags": [],
            "needs_background": "light"
          }
        },
        {
          "output_type": "display_data",
          "data": {
            "image/png": "[encoded data removed]",
            "text/plain": [
              "<Figure size 737.28x230.4 with 2 Axes>"
            ]
          },
          "metadata": {
            "tags": [],
            "needs_background": "light"
          }
        },
        {
          "output_type": "display_data",
          "data": {
            "image/png": "[encoded data removed]",
            "text/plain": [
              "<Figure size 737.28x230.4 with 2 Axes>"
            ]
          },
          "metadata": {
            "tags": [],
            "needs_background": "light"
          }
        },
        {
          "output_type": "display_data",
          "data": {
            "image/png": "[encoded data removed]",
            "text/plain": [
              "<Figure size 737.28x230.4 with 2 Axes>"
            ]
          },
          "metadata": {
            "tags": [],
            "needs_background": "light"
          }
        },
        {
          "output_type": "display_data",
          "data": {
            "image/png": "[encoded data removed]",
            "text/plain": [
              "<Figure size 737.28x230.4 with 2 Axes>"
            ]
          },
          "metadata": {
            "tags": [],
            "needs_background": "light"
          }
        },
        {
          "output_type": "display_data",
          "data": {
            "image/png": "[encoded data removed]",
            "text/plain": [
              "<Figure size 432x288 with 1 Axes>"
            ]
          },
          "metadata": {
            "tags": [],
            "needs_background": "light"
          }
        },
        {
          "output_type": "display_data",
          "data": {
            "image/png": "[encoded data removed]",
            "text/plain": [
              "<Figure size 432x288 with 1 Axes>"
            ]
          },
          "metadata": {
            "tags": [],
            "needs_background": "light"
          }
        },
        {
          "output_type": "display_data",
          "data": {
            "image/png": "[encoded data removed]",
            "text/plain": [
              "<Figure size 432x288 with 1 Axes>"
            ]
          },
          "metadata": {
            "tags": [],
            "needs_background": "light"
          }
        },
        {
          "output_type": "stream",
          "text": [
            "/usr/local/lib/python3.6/dist-packages/sklearn/neural_network/_multilayer_perceptron.py:571: ConvergenceWarning: Stochastic Optimizer: Maximum iterations (300) reached and the optimization hasn't converged yet.\n",
            "  % self.max_iter, ConvergenceWarning)\n"
          ],
          "name": "stderr"
        },
        {
          "output_type": "display_data",
          "data": {
            "image/png": "[encoded data removed]",
            "text/plain": [
              "<Figure size 432x288 with 1 Axes>"
            ]
          },
          "metadata": {
            "tags": [],
            "needs_background": "light"
          }
        }
      ]
    },
    {
      "cell_type": "code",
      "metadata": {
        "colab": {
          "base_uri": "https://localhost:8080/"
        },
        "id": "4jsTDaaghAKU",
        "outputId": "89dc0af0-d476-4d0b-fab2-2e30b97d1a47"
      },
      "source": [
        "#appliquer le modele du DecisionTree sur notre base de données\r\n",
        "model= KNeighborsClassifier(n_neighbors=3)\r\n",
        "model.fit(data1,Caesarian1)"
      ],
      "execution_count": null,
      "outputs": [
        {
          "output_type": "execute_result",
          "data": {
            "text/plain": [
              "KNeighborsClassifier(algorithm='auto', leaf_size=30, metric='minkowski',\n",
              "                     metric_params=None, n_jobs=None, n_neighbors=3, p=2,\n",
              "                     weights='uniform')"
            ]
          },
          "metadata": {
            "tags": []
          },
          "execution_count": 3
        }
      ]
    },
    {
      "cell_type": "code",
      "metadata": {
        "id": "xcv-USbHhWTn"
      },
      "source": [
        "#enregistrer notre modele pour le deploiment dans l'application\r\n",
        "pickle.dump(model,open('model.pkl','wb'))"
      ],
      "execution_count": null,
      "outputs": []
    }
  ]
}